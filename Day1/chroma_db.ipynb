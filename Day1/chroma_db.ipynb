{
 "cells": [
  {
   "cell_type": "code",
   "execution_count": 1,
   "metadata": {},
   "outputs": [
    {
     "name": "stdout",
     "output_type": "stream",
     "text": [
      "Collecting chromadb==0.3.29\n",
      "  Using cached chromadb-0.3.29-py3-none-any.whl (396 kB)\n",
      "Requirement already satisfied: tokenizers>=0.13.2 in c:\\users\\abdul\\appdata\\local\\programs\\python\\python310\\lib\\site-packages (from chromadb==0.3.29) (0.14.1)\n",
      "Requirement already satisfied: onnxruntime>=1.14.1 in c:\\users\\abdul\\appdata\\roaming\\python\\python310\\site-packages (from chromadb==0.3.29) (1.16.3)\n",
      "Collecting fastapi==0.85.1\n",
      "  Using cached fastapi-0.85.1-py3-none-any.whl (55 kB)\n",
      "Requirement already satisfied: uvicorn[standard]>=0.18.3 in c:\\users\\abdul\\appdata\\local\\programs\\python\\python310\\lib\\site-packages (from chromadb==0.3.29) (0.23.2)\n",
      "Requirement already satisfied: tqdm>=4.65.0 in c:\\users\\abdul\\appdata\\local\\programs\\python\\python310\\lib\\site-packages (from chromadb==0.3.29) (4.66.1)\n",
      "Requirement already satisfied: numpy>=1.21.6 in c:\\users\\abdul\\appdata\\local\\programs\\python\\python310\\lib\\site-packages (from chromadb==0.3.29) (1.24.3)\n",
      "Requirement already satisfied: requests>=2.28 in c:\\users\\abdul\\appdata\\local\\programs\\python\\python310\\lib\\site-packages (from chromadb==0.3.29) (2.28.1)\n",
      "Requirement already satisfied: posthog>=2.4.0 in c:\\users\\abdul\\appdata\\roaming\\python\\python310\\site-packages (from chromadb==0.3.29) (3.3.1)\n",
      "Requirement already satisfied: typing-extensions>=4.5.0 in c:\\users\\abdul\\appdata\\local\\programs\\python\\python310\\lib\\site-packages (from chromadb==0.3.29) (4.9.0)\n",
      "Requirement already satisfied: pulsar-client>=3.1.0 in c:\\users\\abdul\\appdata\\roaming\\python\\python310\\site-packages (from chromadb==0.3.29) (3.4.0)\n",
      "Collecting hnswlib>=0.7\n",
      "  Using cached hnswlib-0.8.0.tar.gz (36 kB)\n",
      "  Installing build dependencies: started\n",
      "  Installing build dependencies: still running...\n",
      "  Installing build dependencies: finished with status 'done'\n",
      "  Getting requirements to build wheel: started\n",
      "  Getting requirements to build wheel: finished with status 'done'\n",
      "  Preparing metadata (pyproject.toml): started\n",
      "  Preparing metadata (pyproject.toml): finished with status 'done'\n",
      "Requirement already satisfied: pandas>=1.3 in c:\\users\\abdul\\appdata\\local\\programs\\python\\python310\\lib\\site-packages (from chromadb==0.3.29) (1.5.3)\n",
      "Requirement already satisfied: overrides>=7.3.1 in c:\\users\\abdul\\appdata\\roaming\\python\\python310\\site-packages (from chromadb==0.3.29) (7.4.0)\n",
      "Requirement already satisfied: clickhouse-connect>=0.5.7 in c:\\users\\abdul\\appdata\\local\\programs\\python\\python310\\lib\\site-packages (from chromadb==0.3.29) (0.6.6)\n",
      "Requirement already satisfied: duckdb>=0.7.1 in c:\\users\\abdul\\appdata\\local\\programs\\python\\python310\\lib\\site-packages (from chromadb==0.3.29) (0.7.1)\n",
      "Requirement already satisfied: pydantic<2.0,>=1.9 in c:\\users\\abdul\\appdata\\local\\programs\\python\\python310\\lib\\site-packages (from chromadb==0.3.29) (1.10.13)\n",
      "Collecting starlette==0.20.4\n",
      "  Using cached starlette-0.20.4-py3-none-any.whl (63 kB)\n",
      "Requirement already satisfied: anyio<5,>=3.4.0 in c:\\users\\abdul\\appdata\\local\\programs\\python\\python310\\lib\\site-packages (from starlette==0.20.4->fastapi==0.85.1->chromadb==0.3.29) (3.7.1)\n",
      "Requirement already satisfied: importlib-metadata in c:\\users\\abdul\\appdata\\roaming\\python\\python310\\site-packages (from clickhouse-connect>=0.5.7->chromadb==0.3.29) (6.11.0)\n",
      "Requirement already satisfied: pytz in c:\\users\\abdul\\appdata\\local\\programs\\python\\python310\\lib\\site-packages (from clickhouse-connect>=0.5.7->chromadb==0.3.29) (2022.2.1)\n",
      "Requirement already satisfied: zstandard in c:\\users\\abdul\\appdata\\local\\programs\\python\\python310\\lib\\site-packages (from clickhouse-connect>=0.5.7->chromadb==0.3.29) (0.22.0)\n",
      "Requirement already satisfied: certifi in c:\\users\\abdul\\appdata\\local\\programs\\python\\python310\\lib\\site-packages (from clickhouse-connect>=0.5.7->chromadb==0.3.29) (2022.9.24)\n",
      "Requirement already satisfied: lz4 in c:\\users\\abdul\\appdata\\local\\programs\\python\\python310\\lib\\site-packages (from clickhouse-connect>=0.5.7->chromadb==0.3.29) (4.3.3)\n",
      "Requirement already satisfied: urllib3>=1.26 in c:\\users\\abdul\\appdata\\local\\programs\\python\\python310\\lib\\site-packages (from clickhouse-connect>=0.5.7->chromadb==0.3.29) (1.26.12)\n",
      "Requirement already satisfied: protobuf in c:\\users\\abdul\\appdata\\local\\programs\\python\\python310\\lib\\site-packages (from onnxruntime>=1.14.1->chromadb==0.3.29) (3.20.3)\n",
      "Requirement already satisfied: coloredlogs in c:\\users\\abdul\\appdata\\roaming\\python\\python310\\site-packages (from onnxruntime>=1.14.1->chromadb==0.3.29) (15.0.1)\n",
      "Requirement already satisfied: sympy in c:\\users\\abdul\\appdata\\local\\programs\\python\\python310\\lib\\site-packages (from onnxruntime>=1.14.1->chromadb==0.3.29) (1.12)\n",
      "Requirement already satisfied: flatbuffers in c:\\users\\abdul\\appdata\\local\\programs\\python\\python310\\lib\\site-packages (from onnxruntime>=1.14.1->chromadb==0.3.29) (23.5.26)\n",
      "Requirement already satisfied: packaging in c:\\users\\abdul\\appdata\\local\\programs\\python\\python310\\lib\\site-packages (from onnxruntime>=1.14.1->chromadb==0.3.29) (20.9)\n",
      "Requirement already satisfied: python-dateutil>=2.8.1 in c:\\users\\abdul\\appdata\\local\\programs\\python\\python310\\lib\\site-packages (from pandas>=1.3->chromadb==0.3.29) (2.8.2)\n",
      "Requirement already satisfied: monotonic>=1.5 in c:\\users\\abdul\\appdata\\roaming\\python\\python310\\site-packages (from posthog>=2.4.0->chromadb==0.3.29) (1.6)\n",
      "Requirement already satisfied: backoff>=1.10.0 in c:\\users\\abdul\\appdata\\roaming\\python\\python310\\site-packages (from posthog>=2.4.0->chromadb==0.3.29) (2.2.1)\n",
      "Requirement already satisfied: six>=1.5 in c:\\users\\abdul\\appdata\\local\\programs\\python\\python310\\lib\\site-packages (from posthog>=2.4.0->chromadb==0.3.29) (1.16.0)\n",
      "Requirement already satisfied: idna<4,>=2.5 in c:\\users\\abdul\\appdata\\local\\programs\\python\\python310\\lib\\site-packages (from requests>=2.28->chromadb==0.3.29) (3.4)\n",
      "Requirement already satisfied: charset-normalizer<3,>=2 in c:\\users\\abdul\\appdata\\local\\programs\\python\\python310\\lib\\site-packages (from requests>=2.28->chromadb==0.3.29) (2.1.1)\n",
      "Requirement already satisfied: huggingface_hub<0.18,>=0.16.4 in c:\\users\\abdul\\appdata\\local\\programs\\python\\python310\\lib\\site-packages (from tokenizers>=0.13.2->chromadb==0.3.29) (0.17.3)\n",
      "Requirement already satisfied: colorama in c:\\users\\abdul\\appdata\\local\\programs\\python\\python310\\lib\\site-packages (from tqdm>=4.65.0->chromadb==0.3.29) (0.4.5)\n",
      "Requirement already satisfied: h11>=0.8 in c:\\users\\abdul\\appdata\\local\\programs\\python\\python310\\lib\\site-packages (from uvicorn[standard]>=0.18.3->chromadb==0.3.29) (0.14.0)\n",
      "Requirement already satisfied: click>=7.0 in c:\\users\\abdul\\appdata\\local\\programs\\python\\python310\\lib\\site-packages (from uvicorn[standard]>=0.18.3->chromadb==0.3.29) (8.1.7)\n",
      "Requirement already satisfied: httptools>=0.5.0 in c:\\users\\abdul\\appdata\\roaming\\python\\python310\\site-packages (from uvicorn[standard]>=0.18.3->chromadb==0.3.29) (0.6.1)\n",
      "Requirement already satisfied: pyyaml>=5.1 in c:\\users\\abdul\\appdata\\local\\programs\\python\\python310\\lib\\site-packages (from uvicorn[standard]>=0.18.3->chromadb==0.3.29) (6.0.1)\n",
      "Requirement already satisfied: watchfiles>=0.13 in c:\\users\\abdul\\appdata\\roaming\\python\\python310\\site-packages (from uvicorn[standard]>=0.18.3->chromadb==0.3.29) (0.21.0)\n",
      "Requirement already satisfied: python-dotenv>=0.13 in c:\\users\\abdul\\appdata\\local\\programs\\python\\python310\\lib\\site-packages (from uvicorn[standard]>=0.18.3->chromadb==0.3.29) (1.0.0)\n",
      "Requirement already satisfied: websockets>=10.4 in c:\\users\\abdul\\appdata\\roaming\\python\\python310\\site-packages (from uvicorn[standard]>=0.18.3->chromadb==0.3.29) (12.0)\n",
      "Requirement already satisfied: fsspec in c:\\users\\abdul\\appdata\\local\\programs\\python\\python310\\lib\\site-packages (from huggingface_hub<0.18,>=0.16.4->tokenizers>=0.13.2->chromadb==0.3.29) (2023.9.2)\n",
      "Requirement already satisfied: filelock in c:\\users\\abdul\\appdata\\local\\programs\\python\\python310\\lib\\site-packages (from huggingface_hub<0.18,>=0.16.4->tokenizers>=0.13.2->chromadb==0.3.29) (3.12.4)\n",
      "Requirement already satisfied: pyparsing>=2.0.2 in c:\\users\\abdul\\appdata\\local\\programs\\python\\python310\\lib\\site-packages (from packaging->onnxruntime>=1.14.1->chromadb==0.3.29) (3.0.9)\n",
      "Requirement already satisfied: humanfriendly>=9.1 in c:\\users\\abdul\\appdata\\roaming\\python\\python310\\site-packages (from coloredlogs->onnxruntime>=1.14.1->chromadb==0.3.29) (10.0)\n",
      "Requirement already satisfied: zipp>=0.5 in c:\\users\\abdul\\appdata\\roaming\\python\\python310\\site-packages (from importlib-metadata->clickhouse-connect>=0.5.7->chromadb==0.3.29) (3.17.0)\n",
      "Requirement already satisfied: mpmath>=0.19 in c:\\users\\abdul\\appdata\\local\\programs\\python\\python310\\lib\\site-packages (from sympy->onnxruntime>=1.14.1->chromadb==0.3.29) (1.3.0)\n",
      "Requirement already satisfied: exceptiongroup in c:\\users\\abdul\\appdata\\local\\programs\\python\\python310\\lib\\site-packages (from anyio<5,>=3.4.0->starlette==0.20.4->fastapi==0.85.1->chromadb==0.3.29) (1.1.3)\n",
      "Requirement already satisfied: sniffio>=1.1 in c:\\users\\abdul\\appdata\\local\\programs\\python\\python310\\lib\\site-packages (from anyio<5,>=3.4.0->starlette==0.20.4->fastapi==0.85.1->chromadb==0.3.29) (1.3.0)\n",
      "Requirement already satisfied: pyreadline3 in c:\\users\\abdul\\appdata\\roaming\\python\\python310\\site-packages (from humanfriendly>=9.1->coloredlogs->onnxruntime>=1.14.1->chromadb==0.3.29) (3.4.1)\n",
      "Building wheels for collected packages: hnswlib\n",
      "  Building wheel for hnswlib (pyproject.toml): started\n",
      "  Building wheel for hnswlib (pyproject.toml): finished with status 'error'\n",
      "Failed to build hnswlib\n"
     ]
    },
    {
     "name": "stderr",
     "output_type": "stream",
     "text": [
      "  error: subprocess-exited-with-error\n",
      "  \n",
      "  × Building wheel for hnswlib (pyproject.toml) did not run successfully.\n",
      "  │ exit code: 1\n",
      "  ╰─> [5 lines of output]\n",
      "      running bdist_wheel\n",
      "      running build\n",
      "      running build_ext\n",
      "      building 'hnswlib' extension\n",
      "      error: Microsoft Visual C++ 14.0 or greater is required. Get it with \"Microsoft C++ Build Tools\": https://visualstudio.microsoft.com/visual-cpp-build-tools/\n",
      "      [end of output]\n",
      "  \n",
      "  note: This error originates from a subprocess, and is likely not a problem with pip.\n",
      "  ERROR: Failed building wheel for hnswlib\n",
      "ERROR: Could not build wheels for hnswlib, which is required to install pyproject.toml-based projects\n",
      "\n",
      "[notice] A new release of pip is available: 23.0.1 -> 23.3.2\n",
      "[notice] To update, run: python.exe -m pip install --upgrade pip\n"
     ]
    }
   ],
   "source": [
    "! pip install chromadb==0.3.29\n",
    "import pandas as pd\n",
    "import chromadb"
   ]
  },
  {
   "cell_type": "code",
   "execution_count": 2,
   "metadata": {},
   "outputs": [],
   "source": [
    "# data source: https://www.kaggle.com/datasets/nulldata/medium-post-titles\n",
    "df = pd.read_csv(\"medium_post_titles.csv\")\n",
    "\n",
    "df = df.head(20000)\n",
    "df = df.dropna()\n",
    "df = df[~df[\"subtitle_truncated_flag\"]]\n",
    "\n",
    "topics_of_interest = ['artificial-intelligence', 'data-science', 'machine-learning']\n",
    "# topics_of_interest = ['data-science']\n",
    "\n",
    "df = df[df['category'].isin(topics_of_interest)]\n",
    "\n",
    "df['text'] = df['title']  + df['subtitle']\n",
    "\n",
    "df['meta'] = df.apply( lambda x: {\n",
    "    'text': x['text'],\n",
    "    'category': x['category']\n",
    "}, axis=1)"
   ]
  },
  {
   "cell_type": "code",
   "execution_count": 3,
   "metadata": {},
   "outputs": [
    {
     "data": {
      "text/html": [
       "<div>\n",
       "<style scoped>\n",
       "    .dataframe tbody tr th:only-of-type {\n",
       "        vertical-align: middle;\n",
       "    }\n",
       "\n",
       "    .dataframe tbody tr th {\n",
       "        vertical-align: top;\n",
       "    }\n",
       "\n",
       "    .dataframe thead th {\n",
       "        text-align: right;\n",
       "    }\n",
       "</style>\n",
       "<table border=\"1\" class=\"dataframe\">\n",
       "  <thead>\n",
       "    <tr style=\"text-align: right;\">\n",
       "      <th></th>\n",
       "      <th>category</th>\n",
       "      <th>title</th>\n",
       "      <th>subtitle</th>\n",
       "      <th>subtitle_truncated_flag</th>\n",
       "      <th>text</th>\n",
       "      <th>meta</th>\n",
       "    </tr>\n",
       "  </thead>\n",
       "  <tbody>\n",
       "    <tr>\n",
       "      <th>4</th>\n",
       "      <td>artificial-intelligence</td>\n",
       "      <td>\"Can I Train my Model on Your Computer?\"</td>\n",
       "      <td>How we waste computational resources and how t...</td>\n",
       "      <td>False</td>\n",
       "      <td>\"Can I Train my Model on Your Computer?\"How we...</td>\n",
       "      <td>{'text': '\"Can I Train my Model on Your Comput...</td>\n",
       "    </tr>\n",
       "    <tr>\n",
       "      <th>289</th>\n",
       "      <td>data-science</td>\n",
       "      <td>(Robot) data scientists as a service</td>\n",
       "      <td>Automating data science with symbolic regressi...</td>\n",
       "      <td>False</td>\n",
       "      <td>(Robot) data scientists as a serviceAutomating...</td>\n",
       "      <td>{'text': '(Robot) data scientists as a service...</td>\n",
       "    </tr>\n",
       "  </tbody>\n",
       "</table>\n",
       "</div>"
      ],
      "text/plain": [
       "                    category                                     title  \\\n",
       "4    artificial-intelligence  \"Can I Train my Model on Your Computer?\"   \n",
       "289             data-science      (Robot) data scientists as a service   \n",
       "\n",
       "                                              subtitle  \\\n",
       "4    How we waste computational resources and how t...   \n",
       "289  Automating data science with symbolic regressi...   \n",
       "\n",
       "     subtitle_truncated_flag  \\\n",
       "4                      False   \n",
       "289                    False   \n",
       "\n",
       "                                                  text  \\\n",
       "4    \"Can I Train my Model on Your Computer?\"How we...   \n",
       "289  (Robot) data scientists as a serviceAutomating...   \n",
       "\n",
       "                                                  meta  \n",
       "4    {'text': '\"Can I Train my Model on Your Comput...  \n",
       "289  {'text': '(Robot) data scientists as a service...  "
      ]
     },
     "execution_count": 3,
     "metadata": {},
     "output_type": "execute_result"
    }
   ],
   "source": [
    "df.head(2)"
   ]
  },
  {
   "cell_type": "code",
   "execution_count": 4,
   "metadata": {},
   "outputs": [],
   "source": [
    "from chromadb.config import Settings"
   ]
  },
  {
   "cell_type": "code",
   "execution_count": 5,
   "metadata": {},
   "outputs": [
    {
     "ename": "ValueError",
     "evalue": "\u001b[91mYou are using a deprecated configuration of Chroma.\n\n\u001b[94mIf you do not have data you wish to migrate, you only need to change how you construct\nyour Chroma client. Please see the \"New Clients\" section of https://docs.trychroma.com/migration.\n________________________________________________________________________________________________\n\nIf you do have data you wish to migrate, we have a migration tool you can use in order to\nmigrate your data to the new Chroma architecture.\nPlease `pip install chroma-migrate` and run `chroma-migrate` to migrate your data and then\nchange how you construct your Chroma client.\n\nSee https://docs.trychroma.com/migration for more information or join our discord at https://discord.gg/8g5FESbj for help!\u001b[0m",
     "output_type": "error",
     "traceback": [
      "\u001b[1;31m---------------------------------------------------------------------------\u001b[0m",
      "\u001b[1;31mValueError\u001b[0m                                Traceback (most recent call last)",
      "\u001b[1;32m~\\AppData\\Local\\Temp\\ipykernel_24560\\3366754807.py\u001b[0m in \u001b[0;36m<cell line: 2>\u001b[1;34m()\u001b[0m\n\u001b[0;32m      1\u001b[0m \u001b[1;31m# Chroma DB Setup\u001b[0m\u001b[1;33m\u001b[0m\u001b[1;33m\u001b[0m\u001b[0m\n\u001b[1;32m----> 2\u001b[1;33m chroma_client = chromadb.Client(Settings(\n\u001b[0m\u001b[0;32m      3\u001b[0m     \u001b[0mpersist_directory\u001b[0m\u001b[1;33m=\u001b[0m\u001b[1;34m\"medium-chroma-db\"\u001b[0m\u001b[1;33m,\u001b[0m\u001b[1;33m\u001b[0m\u001b[1;33m\u001b[0m\u001b[0m\n\u001b[0;32m      4\u001b[0m     \u001b[0mchroma_db_impl\u001b[0m\u001b[1;33m=\u001b[0m\u001b[1;34m\"duckdb+parquet\"\u001b[0m\u001b[1;33m\u001b[0m\u001b[1;33m\u001b[0m\u001b[0m\n\u001b[0;32m      5\u001b[0m ))  # persistent memory\n",
      "\u001b[1;32m~\\AppData\\Roaming\\Python\\Python310\\site-packages\\chromadb\\__init__.py\u001b[0m in \u001b[0;36mClient\u001b[1;34m(settings, tenant, database)\u001b[0m\n\u001b[0;32m    246\u001b[0m     \"\"\"\n\u001b[0;32m    247\u001b[0m \u001b[1;33m\u001b[0m\u001b[0m\n\u001b[1;32m--> 248\u001b[1;33m     \u001b[1;32mreturn\u001b[0m \u001b[0mClientCreator\u001b[0m\u001b[1;33m(\u001b[0m\u001b[0mtenant\u001b[0m\u001b[1;33m=\u001b[0m\u001b[0mtenant\u001b[0m\u001b[1;33m,\u001b[0m \u001b[0mdatabase\u001b[0m\u001b[1;33m=\u001b[0m\u001b[0mdatabase\u001b[0m\u001b[1;33m,\u001b[0m \u001b[0msettings\u001b[0m\u001b[1;33m=\u001b[0m\u001b[0msettings\u001b[0m\u001b[1;33m)\u001b[0m\u001b[1;33m\u001b[0m\u001b[1;33m\u001b[0m\u001b[0m\n\u001b[0m\u001b[0;32m    249\u001b[0m \u001b[1;33m\u001b[0m\u001b[0m\n\u001b[0;32m    250\u001b[0m \u001b[1;33m\u001b[0m\u001b[0m\n",
      "\u001b[1;32m~\\AppData\\Roaming\\Python\\Python310\\site-packages\\chromadb\\api\\client.py\u001b[0m in \u001b[0;36m__init__\u001b[1;34m(self, tenant, database, settings)\u001b[0m\n\u001b[0;32m    137\u001b[0m         \u001b[0msettings\u001b[0m\u001b[1;33m:\u001b[0m \u001b[0mSettings\u001b[0m \u001b[1;33m=\u001b[0m \u001b[0mSettings\u001b[0m\u001b[1;33m(\u001b[0m\u001b[1;33m)\u001b[0m\u001b[1;33m,\u001b[0m\u001b[1;33m\u001b[0m\u001b[1;33m\u001b[0m\u001b[0m\n\u001b[0;32m    138\u001b[0m     ) -> None:\n\u001b[1;32m--> 139\u001b[1;33m         \u001b[0msuper\u001b[0m\u001b[1;33m(\u001b[0m\u001b[1;33m)\u001b[0m\u001b[1;33m.\u001b[0m\u001b[0m__init__\u001b[0m\u001b[1;33m(\u001b[0m\u001b[0msettings\u001b[0m\u001b[1;33m=\u001b[0m\u001b[0msettings\u001b[0m\u001b[1;33m)\u001b[0m\u001b[1;33m\u001b[0m\u001b[1;33m\u001b[0m\u001b[0m\n\u001b[0m\u001b[0;32m    140\u001b[0m         \u001b[0mself\u001b[0m\u001b[1;33m.\u001b[0m\u001b[0mtenant\u001b[0m \u001b[1;33m=\u001b[0m \u001b[0mtenant\u001b[0m\u001b[1;33m\u001b[0m\u001b[1;33m\u001b[0m\u001b[0m\n\u001b[0;32m    141\u001b[0m         \u001b[0mself\u001b[0m\u001b[1;33m.\u001b[0m\u001b[0mdatabase\u001b[0m \u001b[1;33m=\u001b[0m \u001b[0mdatabase\u001b[0m\u001b[1;33m\u001b[0m\u001b[1;33m\u001b[0m\u001b[0m\n",
      "\u001b[1;32m~\\AppData\\Roaming\\Python\\Python310\\site-packages\\chromadb\\api\\client.py\u001b[0m in \u001b[0;36m__init__\u001b[1;34m(self, settings)\u001b[0m\n\u001b[0;32m     41\u001b[0m     ) -> None:\n\u001b[0;32m     42\u001b[0m         \u001b[0mself\u001b[0m\u001b[1;33m.\u001b[0m\u001b[0m_identifier\u001b[0m \u001b[1;33m=\u001b[0m \u001b[0mSharedSystemClient\u001b[0m\u001b[1;33m.\u001b[0m\u001b[0m_get_identifier_from_settings\u001b[0m\u001b[1;33m(\u001b[0m\u001b[0msettings\u001b[0m\u001b[1;33m)\u001b[0m\u001b[1;33m\u001b[0m\u001b[1;33m\u001b[0m\u001b[0m\n\u001b[1;32m---> 43\u001b[1;33m         \u001b[0mSharedSystemClient\u001b[0m\u001b[1;33m.\u001b[0m\u001b[0m_create_system_if_not_exists\u001b[0m\u001b[1;33m(\u001b[0m\u001b[0mself\u001b[0m\u001b[1;33m.\u001b[0m\u001b[0m_identifier\u001b[0m\u001b[1;33m,\u001b[0m \u001b[0msettings\u001b[0m\u001b[1;33m)\u001b[0m\u001b[1;33m\u001b[0m\u001b[1;33m\u001b[0m\u001b[0m\n\u001b[0m\u001b[0;32m     44\u001b[0m \u001b[1;33m\u001b[0m\u001b[0m\n\u001b[0;32m     45\u001b[0m     \u001b[1;33m@\u001b[0m\u001b[0mclassmethod\u001b[0m\u001b[1;33m\u001b[0m\u001b[1;33m\u001b[0m\u001b[0m\n",
      "\u001b[1;32m~\\AppData\\Roaming\\Python\\Python310\\site-packages\\chromadb\\api\\client.py\u001b[0m in \u001b[0;36m_create_system_if_not_exists\u001b[1;34m(cls, identifier, settings)\u001b[0m\n\u001b[0;32m     48\u001b[0m     ) -> System:\n\u001b[0;32m     49\u001b[0m         \u001b[1;32mif\u001b[0m \u001b[0midentifier\u001b[0m \u001b[1;32mnot\u001b[0m \u001b[1;32min\u001b[0m \u001b[0mcls\u001b[0m\u001b[1;33m.\u001b[0m\u001b[0m_identifer_to_system\u001b[0m\u001b[1;33m:\u001b[0m\u001b[1;33m\u001b[0m\u001b[1;33m\u001b[0m\u001b[0m\n\u001b[1;32m---> 50\u001b[1;33m             \u001b[0mnew_system\u001b[0m \u001b[1;33m=\u001b[0m \u001b[0mSystem\u001b[0m\u001b[1;33m(\u001b[0m\u001b[0msettings\u001b[0m\u001b[1;33m)\u001b[0m\u001b[1;33m\u001b[0m\u001b[1;33m\u001b[0m\u001b[0m\n\u001b[0m\u001b[0;32m     51\u001b[0m             \u001b[0mcls\u001b[0m\u001b[1;33m.\u001b[0m\u001b[0m_identifer_to_system\u001b[0m\u001b[1;33m[\u001b[0m\u001b[0midentifier\u001b[0m\u001b[1;33m]\u001b[0m \u001b[1;33m=\u001b[0m \u001b[0mnew_system\u001b[0m\u001b[1;33m\u001b[0m\u001b[1;33m\u001b[0m\u001b[0m\n\u001b[0;32m     52\u001b[0m \u001b[1;33m\u001b[0m\u001b[0m\n",
      "\u001b[1;32m~\\AppData\\Roaming\\Python\\Python310\\site-packages\\chromadb\\config.py\u001b[0m in \u001b[0;36m__init__\u001b[1;34m(self, settings)\u001b[0m\n\u001b[0;32m    311\u001b[0m         \u001b[1;31m# Validate settings don't contain any legacy config values\u001b[0m\u001b[1;33m\u001b[0m\u001b[1;33m\u001b[0m\u001b[0m\n\u001b[0;32m    312\u001b[0m         \u001b[1;32mfor\u001b[0m \u001b[0mkey\u001b[0m \u001b[1;32min\u001b[0m \u001b[0m_legacy_config_keys\u001b[0m\u001b[1;33m:\u001b[0m\u001b[1;33m\u001b[0m\u001b[1;33m\u001b[0m\u001b[0m\n\u001b[1;32m--> 313\u001b[1;33m             \u001b[1;32mif\u001b[0m \u001b[0msettings\u001b[0m\u001b[1;33m[\u001b[0m\u001b[0mkey\u001b[0m\u001b[1;33m]\u001b[0m \u001b[1;32mis\u001b[0m \u001b[1;32mnot\u001b[0m \u001b[1;32mNone\u001b[0m\u001b[1;33m:\u001b[0m\u001b[1;33m\u001b[0m\u001b[1;33m\u001b[0m\u001b[0m\n\u001b[0m\u001b[0;32m    314\u001b[0m                 \u001b[1;32mraise\u001b[0m \u001b[0mValueError\u001b[0m\u001b[1;33m(\u001b[0m\u001b[0mLEGACY_ERROR\u001b[0m\u001b[1;33m)\u001b[0m\u001b[1;33m\u001b[0m\u001b[1;33m\u001b[0m\u001b[0m\n\u001b[0;32m    315\u001b[0m \u001b[1;33m\u001b[0m\u001b[0m\n",
      "\u001b[1;32m~\\AppData\\Roaming\\Python\\Python310\\site-packages\\chromadb\\config.py\u001b[0m in \u001b[0;36m__getitem__\u001b[1;34m(self, key)\u001b[0m\n\u001b[0;32m    248\u001b[0m         \u001b[1;31m# Error on legacy config values\u001b[0m\u001b[1;33m\u001b[0m\u001b[1;33m\u001b[0m\u001b[0m\n\u001b[0;32m    249\u001b[0m         \u001b[1;32mif\u001b[0m \u001b[0misinstance\u001b[0m\u001b[1;33m(\u001b[0m\u001b[0mval\u001b[0m\u001b[1;33m,\u001b[0m \u001b[0mstr\u001b[0m\u001b[1;33m)\u001b[0m \u001b[1;32mand\u001b[0m \u001b[0mval\u001b[0m \u001b[1;32min\u001b[0m \u001b[0m_legacy_config_values\u001b[0m\u001b[1;33m:\u001b[0m\u001b[1;33m\u001b[0m\u001b[1;33m\u001b[0m\u001b[0m\n\u001b[1;32m--> 250\u001b[1;33m             \u001b[1;32mraise\u001b[0m \u001b[0mValueError\u001b[0m\u001b[1;33m(\u001b[0m\u001b[0mLEGACY_ERROR\u001b[0m\u001b[1;33m)\u001b[0m\u001b[1;33m\u001b[0m\u001b[1;33m\u001b[0m\u001b[0m\n\u001b[0m\u001b[0;32m    251\u001b[0m         \u001b[1;32mreturn\u001b[0m \u001b[0mval\u001b[0m\u001b[1;33m\u001b[0m\u001b[1;33m\u001b[0m\u001b[0m\n\u001b[0;32m    252\u001b[0m \u001b[1;33m\u001b[0m\u001b[0m\n",
      "\u001b[1;31mValueError\u001b[0m: \u001b[91mYou are using a deprecated configuration of Chroma.\n\n\u001b[94mIf you do not have data you wish to migrate, you only need to change how you construct\nyour Chroma client. Please see the \"New Clients\" section of https://docs.trychroma.com/migration.\n________________________________________________________________________________________________\n\nIf you do have data you wish to migrate, we have a migration tool you can use in order to\nmigrate your data to the new Chroma architecture.\nPlease `pip install chroma-migrate` and run `chroma-migrate` to migrate your data and then\nchange how you construct your Chroma client.\n\nSee https://docs.trychroma.com/migration for more information or join our discord at https://discord.gg/8g5FESbj for help!\u001b[0m"
     ]
    }
   ],
   "source": [
    "# Chroma DB Setup\n",
    "chroma_client = chromadb.Client(Settings(\n",
    "    persist_directory=\"medium-chroma-db\",\n",
    "    chroma_db_impl=\"duckdb+parquet\"\n",
    "))  # persistent memory\n",
    "\n",
    "# collection creation\n",
    "article_collection = chroma_client.create_collection(name=\"medium-article\")"
   ]
  },
  {
   "cell_type": "code",
   "execution_count": null,
   "metadata": {},
   "outputs": [],
   "source": [
    "# inserting data\n",
    "\n",
    "article_collection.upsert(\n",
    "    ids=[f\"{x}\" for x in df.index.tolist()],\n",
    "    documents=df['text'].tolist(),\n",
    "    metadatas=df['meta'].tolist()    \n",
    ")"
   ]
  },
  {
   "cell_type": "code",
   "execution_count": null,
   "metadata": {},
   "outputs": [],
   "source": [
    "qry_str = \"best data ai library?\""
   ]
  },
  {
   "cell_type": "code",
   "execution_count": null,
   "metadata": {},
   "outputs": [],
   "source": [
    "article_collection.query(query_texts=qry_str, n_results=2)"
   ]
  },
  {
   "cell_type": "code",
   "execution_count": null,
   "metadata": {},
   "outputs": [],
   "source": []
  }
 ],
 "metadata": {
  "kernelspec": {
   "display_name": "Python 3",
   "language": "python",
   "name": "python3"
  },
  "language_info": {
   "codemirror_mode": {
    "name": "ipython",
    "version": 3
   },
   "file_extension": ".py",
   "mimetype": "text/x-python",
   "name": "python",
   "nbconvert_exporter": "python",
   "pygments_lexer": "ipython3",
   "version": "3.10.11"
  }
 },
 "nbformat": 4,
 "nbformat_minor": 2
}
